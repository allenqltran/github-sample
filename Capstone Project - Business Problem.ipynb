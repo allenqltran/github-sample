{
 "cells": [
  {
   "cell_type": "markdown",
   "metadata": {},
   "source": [
    "# Capstone Project - Business Problem\n",
    "\n",
    "Location, location, location.  Similar to looking for a place to live, the location of a new business is the most important decision an entrepreneur can make, especially for a service industry such as a restaurant or hairstylist where people will generally not travel too far from their homes to go.  Where would be a good place to start a new business?  Where would be a good place to start a new franchise of an existing successful business?  Specifically, this assessment is targeted to help entrepreneurs who want to open a new restaurant in the City of Toronto and are looking to answer the question of where best to open the restaurant and what type of restaurant to open.\n",
    "\n",
    "Census data provides a wealth of information including family sizes, household income, ages, etc.  This information can be used to group neighbourhoods and people with similar characteristics. Neighbourhoods with similar characteristics can then be used to compare what types of restaurants are prevalent in each area and what type of restaurants may be lacking representing a good opportunity for a new business.  For example, if five out of six neighbourhoods that have a high percentage of young singles with high incomes shows a prevalence of Japanese restaurants, then a Japenese restaurant might be a good business to open in the sixth neighbourhood.\n"
   ]
  },
  {
   "cell_type": "code",
   "execution_count": null,
   "metadata": {},
   "outputs": [],
   "source": []
  }
 ],
 "metadata": {
  "kernelspec": {
   "display_name": "Python 3",
   "language": "python",
   "name": "python3"
  },
  "language_info": {
   "codemirror_mode": {
    "name": "ipython",
    "version": 3
   },
   "file_extension": ".py",
   "mimetype": "text/x-python",
   "name": "python",
   "nbconvert_exporter": "python",
   "pygments_lexer": "ipython3",
   "version": "3.7.3"
  }
 },
 "nbformat": 4,
 "nbformat_minor": 2
}
