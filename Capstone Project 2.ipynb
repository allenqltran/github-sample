{
 "cells": [
  {
   "cell_type": "markdown",
   "metadata": {},
   "source": [
    "## Segmenting and Clustering Neighbourhoods"
   ]
  },
  {
   "cell_type": "markdown",
   "metadata": {},
   "source": [
    "### Load Libraries\n",
    "\n",
    "Load the libraries needed for this exercise"
   ]
  },
  {
   "cell_type": "code",
   "execution_count": 1,
   "metadata": {},
   "outputs": [],
   "source": [
    "import numpy as np\n",
    "import pandas as pd\n",
    "import requests\n",
    "from bs4 import BeautifulSoup"
   ]
  },
  {
   "cell_type": "markdown",
   "metadata": {},
   "source": [
    "###  Fetch Wikipedia Page with Postal Codes\n",
    "\n",
    "Connect to the wikipedia page to get the postal codes"
   ]
  },
  {
   "cell_type": "code",
   "execution_count": 2,
   "metadata": {},
   "outputs": [],
   "source": [
    "wikipedia_link = 'https://en.wikipedia.org/wiki/List_of_postal_codes_of_Canada:_M'\n",
    "raw_page = requests.get (wikipedia_link)\n",
    "page = raw_page.text\n"
   ]
  },
  {
   "cell_type": "markdown",
   "metadata": {},
   "source": [
    "### Create Data Frame for the Postal Codes"
   ]
  },
  {
   "cell_type": "code",
   "execution_count": 3,
   "metadata": {},
   "outputs": [],
   "source": [
    "# Convert the page to a BeautifulSoup object to parse the postal codes\n",
    "\n",
    "from bs4 import BeautifulSoup\n",
    "bs = BeautifulSoup (page, 'lxml')"
   ]
  },
  {
   "cell_type": "code",
   "execution_count": 47,
   "metadata": {},
   "outputs": [
    {
     "name": "stdout",
     "output_type": "stream",
     "text": [
      "    PostalCode           Borough                                       Neighborhood\n",
      "0          M3A        North York                                          Parkwoods\n",
      "1          M4A        North York                                   Victoria Village\n",
      "2          M5A  Downtown Toronto                          Regent Park, Harbourfront\n",
      "3          M6A        North York                   Lawrence Manor, Lawrence Heights\n",
      "4          M7A      Queen's Park                                       Queen's Park\n",
      "5          M9A         Etobicoke                                   Islington Avenue\n",
      "6          M1B       Scarborough                                     Malvern, Rouge\n",
      "7          M3B        North York                                    Don Mills North\n",
      "8          M4B         East York                    Parkview Hill, Woodbine Gardens\n",
      "9          M5B  Downtown Toronto                           Garden District, Ryerson\n",
      "10         M6B        North York                                          Glencairn\n",
      "11         M9B         Etobicoke  West Deane Park, Princess Gardens, Martin Grov...\n",
      "12         M1C       Scarborough             Port Union, Rouge Hill, Highland Creek\n",
      "13         M3C        North York                   Don Mills South, Flemingdon Park\n",
      "14         M4C         East York                                   Woodbine Heights\n",
      "15         M5C  Downtown Toronto                                     St. James Town\n",
      "16         M6C              York                                 Humewood-Cedarvale\n",
      "17         M9C         Etobicoke  Old Burnhamthorpe, Markland Wood, Eringate, Bl...\n",
      "18         M1E       Scarborough                  West Hill, Morningside, Guildwood\n",
      "19         M4E      East Toronto                                        The Beaches\n",
      "20         M5E  Downtown Toronto                                        Berczy Park\n",
      "21         M6E              York                                Caledonia-Fairbanks\n",
      "22         M1G       Scarborough                                             Woburn\n",
      "23         M4G         East York                                            Leaside\n",
      "24         M5G  Downtown Toronto                                 Central Bay Street\n",
      "25         M6G  Downtown Toronto                                           Christie\n",
      "26         M1H       Scarborough                                          Cedarbrae\n",
      "27         M2H        North York                                  Hillcrest Village\n",
      "28         M3H        North York    Wilson Heights, Downsview North, Bathurst Manor\n",
      "29         M4H         East York                                   Thorncliffe Park\n",
      "30         M5H  Downtown Toronto                           Richmond, King, Adelaide\n",
      "31         M6H      West Toronto                       Dufferin, Dovercourt Village\n",
      "32         M1J       Scarborough                                Scarborough Village\n",
      "33         M2J        North York                       Oriole, Henry Farm, Fairview\n",
      "34         M3J        North York                    York University, Northwood Park\n",
      "35         M4J         East York                                       East Toronto\n",
      "36         M5J  Downtown Toronto  Union Station, Toronto Islands, Harbourfront East\n",
      "37         M6J      West Toronto                           Trinity, Little Portugal\n",
      "38         M1K       Scarborough        Kennedy Park, Ionview, East Birchmount Park\n",
      "39         M2K        North York                                    Bayview Village\n",
      "40         M3K        North York                        Downsview East, CFB Toronto\n",
      "41         M4K      East Toronto                       Riverdale, The Danforth West\n",
      "42         M5K  Downtown Toronto           Toronto Dominion Centre, Design Exchange\n",
      "43         M6K      West Toronto       Parkdale Village, Exhibition Place, Brockton\n",
      "44         M1L       Scarborough                    Oakridge, Golden Mile, Clairlea\n",
      "45         M2L        North York                           York Mills, Silver Hills\n",
      "46         M3L        North York                                     Downsview West\n",
      "47         M4L      East Toronto                     India Bazaar, The Beaches West\n",
      "48         M5L  Downtown Toronto                     Victoria Hotel, Commerce Court\n",
      "49         M6L        North York                 Upwood Park, North Park, Downsview\n",
      "50         M9L        North York                                      Humber Summit\n",
      "51         M1M       Scarborough    Scarborough Village West, Cliffside, Cliffcrest\n",
      "52         M2M        North York                            Willowdale, Newtonbrook\n",
      "53         M3M        North York                                  Downsview Central\n",
      "54         M4M      East Toronto                                    Studio District\n",
      "55         M5M        North York                  Lawrence Manor East, Bedford Park\n",
      "56         M6M              York     Silverthorn, Mount Dennis, Keelesdale, Del Ray\n",
      "57         M9M        North York                                   Humberlea, Emery\n",
      "58         M1N       Scarborough                        Cliffside West, Birch Cliff\n",
      "59         M2N        North York                                   Willowdale South\n",
      "60         M3N        North York                                Downsview Northwest\n",
      "61         M4N   Central Toronto                                      Lawrence Park\n",
      "62         M5N   Central Toronto                                           Roselawn\n",
      "63         M6N              York                      Runnymede, The Junction North\n",
      "64         M9N              York                                             Weston\n",
      "65         M1P       Scarborough  Wexford Heights, Scarborough Town Centre, Dors...\n",
      "66         M2P        North York                                    York Mills West\n",
      "67         M4P   Central Toronto                                   Davisville North\n",
      "68         M5P   Central Toronto                Forest Hill West, Forest Hill North\n",
      "69         M6P      West Toronto                      The Junction South, High Park\n",
      "70         M9P         Etobicoke                                          Westmount\n",
      "71         M1R       Scarborough                                  Wexford, Maryvale\n",
      "72         M2R        North York                                    Willowdale West\n",
      "73         M4R   Central Toronto                                 North Toronto West\n",
      "74         M5R   Central Toronto                Yorkville, North Midtown, The Annex\n",
      "75         M6R      West Toronto                             Roncesvalles, Parkdale\n",
      "76         M7R       Mississauga              Canada Post Gateway Processing Centre\n",
      "77         M9R         Etobicoke  St. Phillips, Richview Gardens, Martin Grove G...\n",
      "78         M1S       Scarborough                                          Agincourt\n",
      "79         M4S   Central Toronto                                         Davisville\n",
      "80         M5S  Downtown Toronto                     University of Toronto, Harbord\n",
      "81         M6S      West Toronto                                 Swansea, Runnymede\n",
      "82         M1T       Scarborough            Tam O'Shanter, Sullivan, Clarks Corners\n",
      "83         M4T   Central Toronto                        Summerhill East, Moore Park\n",
      "84         M5T  Downtown Toronto          Kensington Market, Grange Park, Chinatown\n",
      "85         M1V       Scarborough  Steeles East, Milliken, L'Amoreaux East, Aginc...\n",
      "86         M4V   Central Toronto  Summerhill West, South Hill, Rathnelly, Forest...\n",
      "87         M5V  Downtown Toronto  South Niagara, Railway Lands, King and Spadina...\n",
      "88         M8V         Etobicoke       New Toronto, Mimico South, Humber Bay Shores\n",
      "89         M9V         Etobicoke  Thistletown, South Steeles, Silverstone, Mount...\n",
      "90         M1W       Scarborough                                    L'Amoreaux West\n",
      "91         M4W  Downtown Toronto                                           Rosedale\n",
      "92         M5W  Downtown Toronto                    Stn A PO Boxes 25 The Esplanade\n",
      "93         M8W         Etobicoke                             Long Branch, Alderwood\n",
      "94         M9W         Etobicoke                                          Northwest\n",
      "95         M1X       Scarborough                                        Upper Rouge\n",
      "96         M4X  Downtown Toronto                        St. James Town, Cabbagetown\n",
      "97         M5X  Downtown Toronto             Underground city, First Canadian Place\n",
      "98         M8X         Etobicoke      Old Mill North, Montgomery Road, The Kingsway\n",
      "99         M4Y  Downtown Toronto                               Church and Wellesley\n",
      "100        M7Y      East Toronto  Business Reply Mail Processing Centre 969 Eastern\n",
      "101        M8Y         Etobicoke  Sunnylea, Royal York South East, The Queensway...\n",
      "102        M8Z         Etobicoke  South of Bloor, Royal York South West, The Que...\n",
      "(103, 3)\n"
     ]
    }
   ],
   "source": [
    "# Create the postal code dataframe\n",
    "\n",
    "postal_table = bs.find ('tbody')\n",
    "cols = ['PostalCode', 'Borough', 'Neighborhood']\n",
    "postal_df = pd.DataFrame(columns=cols)\n",
    "\n",
    "# first row contains the table header information\n",
    "for r, row in enumerate (postal_table.find_all('tr')[1:]):\n",
    "    postalcode = \"\"\n",
    "    borough = \"\"\n",
    "    neighborhood = \"\"\n",
    "    \n",
    "    for c, col in enumerate (row.find_all('td')):\n",
    "        if (c == 0):\n",
    "            postalcode = col.text\n",
    "        elif (c == 1):\n",
    "            borough = col.text\n",
    "        elif (c == 2):\n",
    "            neighborhood = col.text.rstrip()\n",
    "        else:\n",
    "            print ('Should never get here')\n",
    "    \n",
    "    # Use the borough name if the neighborhood has not been assigned\n",
    "    if (neighborhood == \"Not assigned\"):\n",
    "        neighborhood = borough\n",
    "    \n",
    "    # if the borough is not assigned, then skip this row\n",
    "    if (borough != \"Not assigned\"):\n",
    "        dup_df = postal_df[postal_df ['PostalCode'] == postalcode]\n",
    "        if (not dup_df.empty):\n",
    "            idx = dup_df.index.values.astype(int)[0]\n",
    "            appended_nh = neighborhood + ', ' + dup_df.loc[idx, 'Neighborhood'] \n",
    "            postal_df.loc[idx, 'Neighborhood'] = appended_nh\n",
    "        else: \n",
    "            temp_df = pd.DataFrame ({'PostalCode': [postalcode], 'Borough': [borough], 'Neighborhood': [neighborhood]})\n",
    "            postal_df = postal_df.append(temp_df, ignore_index=True)\n",
    "\n",
    "with pd.option_context('display.max_rows', None, 'display.max_columns', None, 'display.width', 100):\n",
    "    print(postal_df)\n",
    "print (postal_df.shape)\n"
   ]
  },
  {
   "cell_type": "code",
   "execution_count": null,
   "metadata": {},
   "outputs": [],
   "source": []
  }
 ],
 "metadata": {
  "kernelspec": {
   "display_name": "Python 3",
   "language": "python",
   "name": "python3"
  },
  "language_info": {
   "codemirror_mode": {
    "name": "ipython",
    "version": 3
   },
   "file_extension": ".py",
   "mimetype": "text/x-python",
   "name": "python",
   "nbconvert_exporter": "python",
   "pygments_lexer": "ipython3",
   "version": "3.6.8"
  }
 },
 "nbformat": 4,
 "nbformat_minor": 2
}
