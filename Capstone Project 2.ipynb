{
 "cells": [
  {
   "cell_type": "markdown",
   "metadata": {},
   "source": [
    "## Segmenting and Clustering Neighbourhoods"
   ]
  },
  {
   "cell_type": "markdown",
   "metadata": {},
   "source": [
    "### Load Libraries\n",
    "\n",
    "Load the libraries needed for this exercise"
   ]
  },
  {
   "cell_type": "code",
   "execution_count": 1,
   "metadata": {},
   "outputs": [],
   "source": [
    "import numpy as np\n",
    "import pandas as pd\n",
    "import requests\n",
    "from bs4 import BeautifulSoup"
   ]
  },
  {
   "cell_type": "markdown",
   "metadata": {},
   "source": [
    "###  Fetch Wikipedia Page with Postal Codes\n",
    "\n",
    "Connect to the wikipedia page to get the postal codes"
   ]
  },
  {
   "cell_type": "code",
   "execution_count": 2,
   "metadata": {},
   "outputs": [],
   "source": [
    "wikipedia_link = 'https://en.wikipedia.org/wiki/List_of_postal_codes_of_Canada:_M'\n",
    "raw_page = requests.get (wikipedia_link)\n",
    "page = raw_page.text\n"
   ]
  },
  {
   "cell_type": "markdown",
   "metadata": {},
   "source": [
    "### Create Data Frame for the Postal Codes"
   ]
  },
  {
   "cell_type": "code",
   "execution_count": 3,
   "metadata": {},
   "outputs": [],
   "source": [
    "# Convert the page to a BeautifulSoup object to parse the postal codes\n",
    "\n",
    "from bs4 import BeautifulSoup\n",
    "bs = BeautifulSoup (page, 'lxml')"
   ]
  },
  {
   "cell_type": "code",
   "execution_count": 46,
   "metadata": {},
   "outputs": [
    {
     "name": "stdout",
     "output_type": "stream",
     "text": [
      "    PostalCode           Borough                                       Neighborhood\n",
      "0          M3A        North York                                          Parkwoods\n",
      "1          M4A        North York                                   Victoria Village\n",
      "2          M5A  Downtown Toronto                          Harbourfront, Regent Park\n",
      "3          M6A        North York                   Lawrence Heights, Lawrence Manor\n",
      "4          M7A      Queen's Park                                       Queen's Park\n",
      "5          M9A         Etobicoke                                   Islington Avenue\n",
      "6          M1B       Scarborough                                     Rouge, Malvern\n",
      "7          M3B        North York                                    Don Mills North\n",
      "8          M4B         East York                    Woodbine Gardens, Parkview Hill\n",
      "9          M5B  Downtown Toronto                           Ryerson, Garden District\n",
      "10         M6B        North York                                          Glencairn\n",
      "11         M9B         Etobicoke  Cloverdale, Islington, Martin Grove, Princess ...\n",
      "12         M1C       Scarborough             Highland Creek, Rouge Hill, Port Union\n",
      "13         M3C        North York                   Flemingdon Park, Don Mills South\n",
      "14         M4C         East York                                   Woodbine Heights\n",
      "15         M5C  Downtown Toronto                                     St. James Town\n",
      "16         M6C              York                                 Humewood-Cedarvale\n",
      "17         M9C         Etobicoke  Bloordale Gardens, Eringate, Markland Wood, Ol...\n",
      "18         M1E       Scarborough                  Guildwood, Morningside, West Hill\n",
      "19         M4E      East Toronto                                        The Beaches\n",
      "20         M5E  Downtown Toronto                                        Berczy Park\n",
      "21         M6E              York                                Caledonia-Fairbanks\n",
      "22         M1G       Scarborough                                             Woburn\n",
      "23         M4G         East York                                            Leaside\n",
      "24         M5G  Downtown Toronto                                 Central Bay Street\n",
      "25         M6G  Downtown Toronto                                           Christie\n",
      "26         M1H       Scarborough                                          Cedarbrae\n",
      "27         M2H        North York                                  Hillcrest Village\n",
      "28         M3H        North York    Bathurst Manor, Downsview North, Wilson Heights\n",
      "29         M4H         East York                                   Thorncliffe Park\n",
      "30         M5H  Downtown Toronto                           Adelaide, King, Richmond\n",
      "31         M6H      West Toronto                       Dovercourt Village, Dufferin\n",
      "32         M1J       Scarborough                                Scarborough Village\n",
      "33         M2J        North York                       Fairview, Henry Farm, Oriole\n",
      "34         M3J        North York                    Northwood Park, York University\n",
      "35         M4J         East York                                       East Toronto\n",
      "36         M5J  Downtown Toronto  Harbourfront East, Toronto Islands, Union Station\n",
      "37         M6J      West Toronto                           Little Portugal, Trinity\n",
      "38         M1K       Scarborough        East Birchmount Park, Ionview, Kennedy Park\n",
      "39         M2K        North York                                    Bayview Village\n",
      "40         M3K        North York                        CFB Toronto, Downsview East\n",
      "41         M4K      East Toronto                       The Danforth West, Riverdale\n",
      "42         M5K  Downtown Toronto           Design Exchange, Toronto Dominion Centre\n",
      "43         M6K      West Toronto       Brockton, Exhibition Place, Parkdale Village\n",
      "44         M1L       Scarborough                    Clairlea, Golden Mile, Oakridge\n",
      "45         M2L        North York                           Silver Hills, York Mills\n",
      "46         M3L        North York                                     Downsview West\n",
      "47         M4L      East Toronto                     The Beaches West, India Bazaar\n",
      "48         M5L  Downtown Toronto                     Commerce Court, Victoria Hotel\n",
      "49         M6L        North York                 Downsview, North Park, Upwood Park\n",
      "50         M9L        North York                                      Humber Summit\n",
      "51         M1M       Scarborough    Cliffcrest, Cliffside, Scarborough Village West\n",
      "52         M2M        North York                            Newtonbrook, Willowdale\n",
      "53         M3M        North York                                  Downsview Central\n",
      "54         M4M      East Toronto                                    Studio District\n",
      "55         M5M        North York                  Bedford Park, Lawrence Manor East\n",
      "56         M6M              York     Del Ray, Keelesdale, Mount Dennis, Silverthorn\n",
      "57         M9M        North York                                   Emery, Humberlea\n",
      "58         M1N       Scarborough                        Birch Cliff, Cliffside West\n",
      "59         M2N        North York                                   Willowdale South\n",
      "60         M3N        North York                                Downsview Northwest\n",
      "61         M4N   Central Toronto                                      Lawrence Park\n",
      "62         M5N   Central Toronto                                           Roselawn\n",
      "63         M6N              York                      The Junction North, Runnymede\n",
      "64         M9N              York                                             Weston\n",
      "65         M1P       Scarborough  Dorset Park, Scarborough Town Centre, Wexford ...\n",
      "66         M2P        North York                                    York Mills West\n",
      "67         M4P   Central Toronto                                   Davisville North\n",
      "68         M5P   Central Toronto                Forest Hill North, Forest Hill West\n",
      "69         M6P      West Toronto                      High Park, The Junction South\n",
      "70         M9P         Etobicoke                                          Westmount\n",
      "71         M1R       Scarborough                                  Maryvale, Wexford\n",
      "72         M2R        North York                                    Willowdale West\n",
      "73         M4R   Central Toronto                                 North Toronto West\n",
      "74         M5R   Central Toronto                The Annex, North Midtown, Yorkville\n",
      "75         M6R      West Toronto                             Parkdale, Roncesvalles\n",
      "76         M7R       Mississauga              Canada Post Gateway Processing Centre\n",
      "77         M9R         Etobicoke  Kingsview Village, Martin Grove Gardens, Richv...\n",
      "78         M1S       Scarborough                                          Agincourt\n",
      "79         M4S   Central Toronto                                         Davisville\n",
      "80         M5S  Downtown Toronto                     Harbord, University of Toronto\n",
      "81         M6S      West Toronto                                 Runnymede, Swansea\n",
      "82         M1T       Scarborough            Clarks Corners, Sullivan, Tam O'Shanter\n",
      "83         M4T   Central Toronto                        Moore Park, Summerhill East\n",
      "84         M5T  Downtown Toronto          Chinatown, Grange Park, Kensington Market\n",
      "85         M1V       Scarborough  Agincourt North, L'Amoreaux East, Milliken, St...\n",
      "86         M4V   Central Toronto  Deer Park, Forest Hill SE, Rathnelly, South Hi...\n",
      "87         M5V  Downtown Toronto  CN Tower, Bathurst Quay, Island airport, Harbo...\n",
      "88         M8V         Etobicoke       Humber Bay Shores, Mimico South, New Toronto\n",
      "89         M9V         Etobicoke  Albion Gardens, Beaumond Heights, Humbergate, ...\n",
      "90         M1W       Scarborough                                    L'Amoreaux West\n",
      "91         M4W  Downtown Toronto                                           Rosedale\n",
      "92         M5W  Downtown Toronto                    Stn A PO Boxes 25 The Esplanade\n",
      "93         M8W         Etobicoke                             Alderwood, Long Branch\n",
      "94         M9W         Etobicoke                                          Northwest\n",
      "95         M1X       Scarborough                                        Upper Rouge\n",
      "96         M4X  Downtown Toronto                        Cabbagetown, St. James Town\n",
      "97         M5X  Downtown Toronto             First Canadian Place, Underground city\n",
      "98         M8X         Etobicoke      The Kingsway, Montgomery Road, Old Mill North\n",
      "99         M4Y  Downtown Toronto                               Church and Wellesley\n",
      "100        M7Y      East Toronto  Business Reply Mail Processing Centre 969 Eastern\n",
      "101        M8Y         Etobicoke  Humber Bay, King's Mill Park, Kingsway Park So...\n",
      "102        M8Z         Etobicoke  Kingsway Park South West, Mimico NW, The Queen...\n",
      "(103, 3)\n"
     ]
    }
   ],
   "source": [
    "# Create the postal code dataframe\n",
    "\n",
    "postal_table = bs.find ('tbody')\n",
    "cols = ['PostalCode', 'Borough', 'Neighborhood']\n",
    "postal_df = pd.DataFrame(columns=cols)\n",
    "\n",
    "# first row contains the table header information\n",
    "for r, row in enumerate (postal_table.find_all('tr')[1:]):\n",
    "    postalcode = \"\"\n",
    "    borough = \"\"\n",
    "    neighborhood = \"\"\n",
    "    \n",
    "    for c, col in enumerate (row.find_all('td')):\n",
    "        if (c == 0):\n",
    "            postalcode = col.text\n",
    "        elif (c == 1):\n",
    "            borough = col.text\n",
    "        elif (c == 2):\n",
    "            neighborhood = col.text.rstrip()\n",
    "        else:\n",
    "            print ('Should never get here')\n",
    "    \n",
    "    # Use the borough name if the neighborhood has not been assigned\n",
    "    if (neighborhood == \"Not assigned\"):\n",
    "        neighborhood = borough\n",
    "    \n",
    "    # if the borough is not assigned, then skip this row\n",
    "    if (borough != \"Not assigned\"):\n",
    "        dup_df = postal_df[postal_df ['PostalCode'] == postalcode]\n",
    "        if (not dup_df.empty):\n",
    "            idx = dup_df.index.values.astype(int)[0]\n",
    "            appended_nh = dup_df.loc[idx, 'Neighborhood'] + ', ' + neighborhood\n",
    "            postal_df.loc[idx, 'Neighborhood'] = appended_nh\n",
    "        else: \n",
    "            temp_df = pd.DataFrame ({'PostalCode': [postalcode], 'Borough': [borough], 'Neighborhood': [neighborhood]})\n",
    "            postal_df = postal_df.append(temp_df, ignore_index=True)\n",
    "\n",
    "with pd.option_context('display.max_rows', None, 'display.max_columns', None, 'display.width', 100):\n",
    "    print(postal_df)\n",
    "print (postal_df.shape)\n"
   ]
  },
  {
   "cell_type": "code",
   "execution_count": null,
   "metadata": {},
   "outputs": [],
   "source": []
  }
 ],
 "metadata": {
  "kernelspec": {
   "display_name": "Python 3",
   "language": "python",
   "name": "python3"
  },
  "language_info": {
   "codemirror_mode": {
    "name": "ipython",
    "version": 3
   },
   "file_extension": ".py",
   "mimetype": "text/x-python",
   "name": "python",
   "nbconvert_exporter": "python",
   "pygments_lexer": "ipython3",
   "version": "3.6.8"
  }
 },
 "nbformat": 4,
 "nbformat_minor": 2
}
