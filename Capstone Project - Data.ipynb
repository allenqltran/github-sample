{
 "cells": [
  {
   "cell_type": "markdown",
   "metadata": {},
   "source": [
    "# Capstone Project - Data\n",
    "\n",
    "## Census Data\n",
    "\n",
    "The Government of Canada's last census data was undertaken in 2016 and has been provided on the Statistics Canada website.  The data can be obtained broken down by forward sortation areas (FSA), which is the first 3 characters of a Canada postal code, and thus allows for the grouping of information by neighbourhoods. However, all the pieces of information for each FSA is stored as name/value pairs and need to be transformed into tables that can be used for neighbourhood analysis.  Also, certain FSA are not residential areas so they will need to be removed. \n",
    "\n",
    "From the Canada-wide census data, a subset of this data from Toronto FSA's can be obtained.  There are over 2000 data collected per FSA and a subset, specifically age gruops, family sizes, and household income will be used to group similar neighbourhoods.  Because each FSA in Toronto will have different population sizes, a percentage distribution will give us a better measure of similarity amongs neighbourhoods.\n",
    "\n",
    "## Restaurant (Venue) Data\n",
    "\n",
    "Foursquare data will be used to obtain common venues for grouped Toronto neighbourhoods. This can then be used to analyze whether similar neighbourhoods have a lack of venue (restaurant) and hence a potential business opportunity.\n",
    "\n",
    "## Supporting Data\n",
    "\n",
    "Geo coordinate information for the forward sortation areas of Toronto is also used to be able to visualize/map the results of the analysis.\n",
    "\n",
    "A geojson file was also obtained to also help visualize the FSA areas of Toronto.\n"
   ]
  }
 ],
 "metadata": {
  "kernelspec": {
   "display_name": "Python 3",
   "language": "python",
   "name": "python3"
  },
  "language_info": {
   "codemirror_mode": {
    "name": "ipython",
    "version": 3
   },
   "file_extension": ".py",
   "mimetype": "text/x-python",
   "name": "python",
   "nbconvert_exporter": "python",
   "pygments_lexer": "ipython3",
   "version": "3.7.3"
  }
 },
 "nbformat": 4,
 "nbformat_minor": 2
}
